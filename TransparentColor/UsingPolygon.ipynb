{
 "cells": [
  {
   "cell_type": "code",
   "execution_count": 1,
   "id": "3c2759a5",
   "metadata": {},
   "outputs": [],
   "source": [
    "import cv2\n",
    "import numpy as np\n",
    "import pandas as pd\n",
    "from shapely.geometry import Polygon"
   ]
  },
  {
   "cell_type": "code",
   "execution_count": 2,
   "id": "c9945d0a",
   "metadata": {},
   "outputs": [
    {
     "name": "stdout",
     "output_type": "stream",
     "text": [
      "2218.0\n"
     ]
    }
   ],
   "source": [
    "capture = cv2.VideoCapture(r\"C:\\Users\\Jimmy\\Documents\\Experimental_Forest\\Video Data\\Location-6\\L6V2.mp4\")\n",
    "total_frames = capture.get(cv2.CAP_PROP_FRAME_COUNT)\n",
    "print(total_frames)\n",
    "df = pd.read_csv('GT_IMG_1258.csv')\n",
    "df2 = pd.read_csv('GT_IMG_1258_919.csv')"
   ]
  },
  {
   "cell_type": "code",
   "execution_count": 3,
   "id": "0f7b7eeb",
   "metadata": {},
   "outputs": [],
   "source": [
    "def getROICorners(GT_df, frame_index):\n",
    "    \n",
    "    max_width = 375\n",
    "    max_y = 720 # represents floor in front\n",
    "    min_y = 230 # represents \"horizon\"\n",
    "    slope = max_width / (max_y-min_y)\n",
    "    point_count = GT_df[\"#ofPoints\"][frame_index]\n",
    "    frame_points = GT_df.iloc[frame_index, 2:(2+point_count*2)]\n",
    "    Xlist = []\n",
    "    Ylist = []\n",
    "    \n",
    "    # iterate through each point using the y-value\n",
    "    for i in range(1, point_count*2, 2):\n",
    "        # This linear equation serves as a base\n",
    "        width = max_width - (max_y-frame_points[i]) * slope\n",
    "        width = int(width//2)\n",
    "        Xlist.append(frame_points[i-1]+width)\n",
    "        Ylist.append(frame_points[i])\n",
    "        Xlist.append(frame_points[i-1]-width)\n",
    "        Ylist.append(frame_points[i])\n",
    "    return Xlist, Ylist"
   ]
  },
  {
   "cell_type": "code",
   "execution_count": 4,
   "id": "95a514d1",
   "metadata": {},
   "outputs": [],
   "source": [
    "def draw_polygon(image, points, color):\n",
    "    points = [[point[0], point[1]] for point in points]\n",
    "    points = np.array([points], dtype=np.int32)\n",
    "    cv2.fillPoly(image, points, color)"
   ]
  },
  {
   "cell_type": "code",
   "execution_count": 5,
   "id": "2fc9418a",
   "metadata": {},
   "outputs": [],
   "source": [
    "def applyMask(frame, polygon, color='green'):\n",
    "    mask = np.zeros(frame.shape[:2], dtype=np.uint8)\n",
    "    # Get the coordinates of the polygon\n",
    "    roi_corners = np.array(polygon.exterior.coords, dtype=np.int32)\n",
    "    cv2.fillPoly(mask, [roi_corners], (255, 255, 255))\n",
    "\n",
    "    # Define the mask color based on the input color\n",
    "    if color == 'green':\n",
    "        mask_color = (0, 175, 0)\n",
    "    elif color == 'blue':\n",
    "        mask_color = (175, 0, 0)\n",
    "    elif color == 'red':\n",
    "        mask_color = (0, 0, 175)\n",
    "\n",
    "    darkened_mask = cv2.bitwise_and(mask, mask, mask=mask)\n",
    "\n",
    "    # Create an overlay with the same size as the image\n",
    "    overlay = np.zeros_like(frame)\n",
    "    overlay[darkened_mask != 0] = mask_color\n",
    "\n",
    "    masked_overlay = cv2.bitwise_and(overlay, overlay, mask=mask)\n",
    "\n",
    "    output = cv2.addWeighted(frame, 1, masked_overlay, 0.25, 0.5)\n",
    "    return output"
   ]
  },
  {
   "cell_type": "code",
   "execution_count": 6,
   "id": "961fc085",
   "metadata": {},
   "outputs": [],
   "source": [
    "def calculate_iou(polygon1, polygon2):\n",
    "    # Clean the polygons to fix any self-intersection issues\n",
    "    clean_polygon1 = polygon1.buffer(0)\n",
    "    clean_polygon2 = polygon2.buffer(0)\n",
    "\n",
    "    # Calculate the intersection and union of the cleaned polygons\n",
    "    intersection_area = clean_polygon1.intersection(clean_polygon2).area\n",
    "    union_area = clean_polygon1.union(clean_polygon2).area\n",
    "\n",
    "\n",
    "    # Check if the union area is zero\n",
    "    if union_area == 0:\n",
    "        iou = 0  # Handle the case where there is no union\n",
    "    else:\n",
    "        # Calculate the IoU\n",
    "        iou = intersection_area / union_area\n",
    "        iou = intersection_area / union_area\n",
    "\n",
    "    return iou"
   ]
  },
  {
   "cell_type": "code",
   "execution_count": 7,
   "id": "d01476b6",
   "metadata": {},
   "outputs": [
    {
     "name": "stdout",
     "output_type": "stream",
     "text": [
      "[(775.0, 700.0), (417.0, 700.0), (641.0, 364.0), (539.0, 364.0), (550.0, 301.0), (496.0, 301.0)]\n"
     ]
    }
   ],
   "source": [
    "Xlist1, Ylist1 = getROICorners(df, 0)\n",
    "points1 = []\n",
    "for point in range(len(Xlist1)):\n",
    "    points1.append( (Xlist1[point],Ylist1[point]) )\n",
    "print(points1)"
   ]
  }
 ],
 "metadata": {
  "kernelspec": {
   "display_name": "Python 3 (ipykernel)",
   "language": "python",
   "name": "python3"
  },
  "language_info": {
   "codemirror_mode": {
    "name": "ipython",
    "version": 3
   },
   "file_extension": ".py",
   "mimetype": "text/x-python",
   "name": "python",
   "nbconvert_exporter": "python",
   "pygments_lexer": "ipython3",
   "version": "3.9.13"
  }
 },
 "nbformat": 4,
 "nbformat_minor": 5
}
