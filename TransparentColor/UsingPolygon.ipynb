{
 "cells": [
  {
   "cell_type": "code",
   "execution_count": 1,
   "id": "3c2759a5",
   "metadata": {},
   "outputs": [],
   "source": [
    "import cv2\n",
    "import numpy as np\n",
    "import pandas as pd\n",
    "from shapely.geometry import Polygon"
   ]
  },
  {
   "cell_type": "code",
   "execution_count": 2,
   "id": "c9945d0a",
   "metadata": {},
   "outputs": [
    {
     "name": "stdout",
     "output_type": "stream",
     "text": [
      "2218.0\n"
     ]
    }
   ],
   "source": [
    "capture = cv2.VideoCapture(r\"C:\\Users\\Jimmy\\Documents\\Experimental_Forest\\Video Data\\Location-6\\L6V2.mp4\")\n",
    "total_frames = capture.get(cv2.CAP_PROP_FRAME_COUNT)\n",
    "print(total_frames)\n",
    "df = pd.read_csv('GT_IMG_1258.csv')\n",
    "df2 = pd.read_csv('GT_IMG_1258_919.csv')"
   ]
  },
  {
   "cell_type": "code",
   "execution_count": 3,
   "id": "0f7b7eeb",
   "metadata": {},
   "outputs": [],
   "source": [
    "def getROICorners(GT_df, frame_index):\n",
    "    \n",
    "    max_width = 375\n",
    "    max_y = 720 # represents floor in front\n",
    "    min_y = 230 # represents \"horizon\"\n",
    "    slope = max_width / (max_y-min_y)\n",
    "    point_count = GT_df[\"#ofPoints\"][frame_index]\n",
    "    frame_points = GT_df.iloc[frame_index, 2:(2+point_count*2)]\n",
    "    Xlist = []\n",
    "    Ylist = []\n",
    "    \n",
    "    # iterate through each point using the y-value\n",
    "    for i in range(1, point_count*2, 2):\n",
    "        # This linear equation serves as a base\n",
    "        width = max_width - (max_y-frame_points[i]) * slope\n",
    "        width = int(width//2)\n",
    "        Xlist.append(frame_points[i-1]+width)\n",
    "        Ylist.append(frame_points[i])\n",
    "        Xlist.append(frame_points[i-1]-width)\n",
    "        Ylist.append(frame_points[i])\n",
    "    return Xlist, Ylist"
   ]
  },
  {
   "cell_type": "code",
   "execution_count": 4,
   "id": "95a514d1",
   "metadata": {},
   "outputs": [],
   "source": [
    "def draw_polygon(image, points, color):\n",
    "    points = [[point[0], point[1]] for point in points]\n",
    "    points = np.array([points], dtype=np.int32)\n",
    "    cv2.fillPoly(image, points, color)"
   ]
  },
  {
   "cell_type": "code",
   "execution_count": 5,
   "id": "c7526b4d",
   "metadata": {},
   "outputs": [],
   "source": [
    "def applyMask(frame, polygon, color='green'):\n",
    "    mask = np.zeros(frame.shape[:2], dtype=np.uint8)\n",
    "    # Get the coordinates of the polygon\n",
    "    roi_corners = np.array(polygon.exterior.coords, dtype=np.int32)\n",
    "    cv2.fillPoly(mask, [roi_corners], (255, 255, 255))\n",
    "\n",
    "    # Define the mask color based on the input color\n",
    "    if color == 'green':\n",
    "        mask_color = (0, 175, 0)\n",
    "    elif color == 'blue':\n",
    "        mask_color = (175, 0, 0)\n",
    "    elif color == 'red':\n",
    "        mask_color = (0, 0, 175)\n",
    "\n",
    "    darkened_mask = cv2.bitwise_and(mask, mask, mask=mask)\n",
    "\n",
    "    # Create an overlay with the same size as the image\n",
    "    overlay = np.zeros_like(frame)\n",
    "    overlay[darkened_mask != 0] = mask_color\n",
    "\n",
    "    masked_overlay = cv2.bitwise_and(overlay, overlay, mask=mask)\n",
    "\n",
    "    output = cv2.addWeighted(frame, 1, masked_overlay, 0.25, 0.5)\n",
    "    return output"
   ]
  },
  {
   "cell_type": "code",
   "execution_count": 12,
   "id": "ccbe1597",
   "metadata": {},
   "outputs": [],
   "source": [
    "def calculate_iou(polygon1, polygon2):\n",
    "    # Clean the polygons to fix any self-intersection issues\n",
    "    clean_polygon1 = polygon1.buffer(0)\n",
    "    clean_polygon2 = polygon2.buffer(0)\n",
    "\n",
    "    # Calculate the intersection and union of the cleaned polygons\n",
    "    intersection_area = clean_polygon1.intersection(clean_polygon2).area\n",
    "    union_area = clean_polygon1.union(clean_polygon2).area\n",
    "\n",
    "\n",
    "    # Check if the union area is zero\n",
    "    if union_area == 0:\n",
    "        iou = 0  # Handle the case where there is no union\n",
    "    else:\n",
    "        # Calculate the IoU\n",
    "        iou = intersection_area / union_area\n",
    "        iou = intersection_area / union_area\n",
    "\n",
    "    return iou"
   ]
  },
  {
   "cell_type": "code",
   "execution_count": 7,
   "id": "d01476b6",
   "metadata": {},
   "outputs": [
    {
     "name": "stdout",
     "output_type": "stream",
     "text": [
      "[(775.0, 700.0), (417.0, 700.0), (641.0, 364.0), (539.0, 364.0), (550.0, 301.0), (496.0, 301.0)]\n"
     ]
    }
   ],
   "source": [
    "Xlist1, Ylist1 = getROICorners(df, 0)\n",
    "points1 = []\n",
    "for point in range(len(Xlist1)):\n",
    "    points1.append( (Xlist1[point],Ylist1[point]) )\n",
    "print(points1)"
   ]
  },
  {
   "cell_type": "code",
   "execution_count": 8,
   "id": "3f5141c9",
   "metadata": {},
   "outputs": [],
   "source": [
    "points = points1\n",
    "# Create a polygon using Shapely\n",
    "polygon = Polygon(points)"
   ]
  },
  {
   "cell_type": "code",
   "execution_count": 9,
   "id": "58d1ba6c",
   "metadata": {},
   "outputs": [
    {
     "name": "stdout",
     "output_type": "stream",
     "text": [
      "At frame, 0 Iou is: 0.8290431709008207\n",
      "At frame, 1 Iou is: 0.8314923707803642\n",
      "At frame, 2 Iou is: 0.8331231200561013\n",
      "At frame, 3 Iou is: 0.8326581860024731\n",
      "At frame, 4 Iou is: 0.832680245885082\n",
      "At frame, 5 Iou is: 0.8335262443834088\n",
      "At frame, 6 Iou is: 0.8365855355991818\n",
      "At frame, 7 Iou is: 0.8338127027033438\n",
      "At frame, 8 Iou is: 0.8381566855927991\n",
      "At frame, 9 Iou is: 0.8374366461011886\n",
      "At frame, 10 Iou is: 0.8383134809482019\n",
      "At frame, 11 Iou is: 0.8389704253056804\n",
      "At frame, 12 Iou is: 0.8383775063831564\n",
      "At frame, 13 Iou is: 0.841643427664953\n",
      "At frame, 14 Iou is: 0.8422425573330445\n",
      "At frame, 15 Iou is: 0.839469697703218\n",
      "At frame, 16 Iou is: 0.8378551434307314\n",
      "At frame, 17 Iou is: 0.8336809264401374\n",
      "At frame, 18 Iou is: 0.8319284025471861\n",
      "At frame, 19 Iou is: 0.8147253528610556\n",
      "At frame, 20 Iou is: 0.8348362310824077\n",
      "At frame, 21 Iou is: 0.8316109612676056\n",
      "At frame, 22 Iou is: 0.8323634840797443\n",
      "At frame, 23 Iou is: 0.8219146598913883\n",
      "At frame, 24 Iou is: 0.8213805112312376\n",
      "At frame, 25 Iou is: 0.8181689923541781\n",
      "At frame, 26 Iou is: 0.8144427877254242\n",
      "At frame, 27 Iou is: 0.8055309360764759\n",
      "At frame, 28 Iou is: 0.8045646655425676\n",
      "At frame, 29 Iou is: 0.7944711662271124\n",
      "At frame, 30 Iou is: 0.793503673260933\n",
      "At frame, 31 Iou is: 0.7866833704598355\n",
      "At frame, 32 Iou is: 0.7806539569215739\n",
      "At frame, 33 Iou is: 0.7739753448363865\n",
      "At frame, 34 Iou is: 0.7667743099791818\n",
      "At frame, 35 Iou is: 0.7660211548293803\n",
      "At frame, 36 Iou is: 0.7590057623139662\n",
      "At frame, 37 Iou is: 0.7553049397506381\n",
      "At frame, 38 Iou is: 0.7505277318680132\n",
      "At frame, 39 Iou is: 0.7457300096808829\n",
      "At frame, 40 Iou is: 0.7463078728835104\n",
      "At frame, 41 Iou is: 0.7398105697773913\n",
      "At frame, 42 Iou is: 0.7393007268938457\n",
      "At frame, 43 Iou is: 0.7386748241860775\n"
     ]
    }
   ],
   "source": [
    "capture = cv2.VideoCapture(r\"C:\\Users\\Jimmy\\Documents\\Experimental_Forest\\Video Data\\Location-6\\L6V2.mp4\")\n",
    "frame_index = 0\n",
    "fast_forward = 1\n",
    "counter = 0\n",
    "paused = False\n",
    "while True:\n",
    "\n",
    "    capture.set(cv2.CAP_PROP_FRAME_COUNT, frame_index)\n",
    "    isTrue, frame = capture.read()\n",
    "    if (frame_index < total_frames-2) & ((counter%fast_forward)==0):\n",
    "\n",
    "        Xlist1, Ylist1 = getROICorners(df, frame_index)\n",
    "        Xlist2, Ylist2 = getROICorners(df2, frame_index)\n",
    "        points1 = []\n",
    "        for point in range(0, len(Xlist1), 2):\n",
    "            points1.append( (Xlist1[point],Ylist1[point]) )\n",
    "        for point in reversed(range(1, len(Xlist1), 2)):\n",
    "            points1.append( (Xlist1[point],Ylist1[point]) )\n",
    "        points2 = []\n",
    "        for point in range(0, len(Xlist2), 2):\n",
    "            points2.append( (Xlist2[point],Ylist2[point]) )\n",
    "        for point in reversed(range(1, len(Xlist2), 2)):\n",
    "            points2.append( (Xlist2[point],Ylist2[point]) )\n",
    "        polygon1 = Polygon(points1)\n",
    "        polygon2 = Polygon(points2)\n",
    "        #draw_polygon(frame, polygon.exterior.coords, (255, 0, 0))\n",
    "        frame = applyMask(frame, polygon1)\n",
    "        frame = applyMask(frame, polygon2, color='blue')\n",
    "        counter = 0\n",
    "        cv2.imshow('Video', frame)\n",
    "        print(\"At frame,\", frame_index, \"Iou is:\",calculate_iou(polygon1, polygon2))\n",
    "        frame_index += fast_forward\n",
    "    counter+=1\n",
    "    if cv2.waitKey(2) & 0xFF==ord('d'):\n",
    "        cv2.destroyAllWindows()\n",
    "        break\n",
    "    if cv2.waitKey(2) & 0xFF==ord('f'):\n",
    "        if fast_forward == 1:\n",
    "            fast_forward = 5\n",
    "        else:\n",
    "            fast_forward = 1\n",
    "    if cv2.waitKey(2) & 0xFF==ord('g'):\n",
    "        paused = not paused"
   ]
  },
  {
   "cell_type": "code",
   "execution_count": 14,
   "id": "4700eb12",
   "metadata": {},
   "outputs": [
    {
     "name": "stdout",
     "output_type": "stream",
     "text": [
      "0.6509292194172497\n"
     ]
    }
   ],
   "source": [
    "total_iou = 0\n",
    "for frame_index in range(int(total_frames)):\n",
    "    #print(frame_index)\n",
    "    Xlist1, Ylist1 = getROICorners(df, frame_index)\n",
    "    Xlist2, Ylist2 = getROICorners(df2, frame_index)\n",
    "    points1 = []\n",
    "    for point in range(0, len(Xlist1), 2):\n",
    "        points1.append( (Xlist1[point],Ylist1[point]) )\n",
    "    for point in reversed(range(1, len(Xlist1), 2)):\n",
    "        points1.append( (Xlist1[point],Ylist1[point]) )\n",
    "    points2 = []\n",
    "    for point in range(0, len(Xlist2), 2):\n",
    "        points2.append( (Xlist2[point],Ylist2[point]) )\n",
    "    for point in reversed(range(1, len(Xlist2), 2)):\n",
    "        points2.append( (Xlist2[point],Ylist2[point]) )\n",
    "    polygon1 = Polygon(points1)\n",
    "    polygon2 = Polygon(points2)\n",
    "    total_iou += calculate_iou(polygon1, polygon2)\n",
    "print(total_iou/total_frames)\n",
    "    "
   ]
  },
  {
   "cell_type": "raw",
   "id": "27f5c18d",
   "metadata": {},
   "source": [
    "import cv2\n",
    "import pandas as pd\n",
    "\n",
    "# Path to your video file\n",
    "video_path = r\"C:\\Users\\Jimmy\\Documents\\Experimental_Forest\\Video Data\\Location-6\\L6V2.mp4\"\n",
    "\n",
    "# Open the video file\n",
    "cap = cv2.VideoCapture(video_path)\n",
    "\n",
    "# Check if the video file is opened successfully\n",
    "if not cap.isOpened():\n",
    "    print(\"Error opening video file\")\n",
    "\n",
    "# Frame number you want to display\n",
    "frame_number = 100\n",
    "\n",
    "# Set the frame position\n",
    "cap.set(cv2.CAP_PROP_POS_FRAMES, frame_number)\n",
    "\n",
    "# Read the frame\n",
    "ret, frame = cap.read()\n",
    "\n",
    "Xlist1, Ylist1 = getROICorners(df, frame_number)\n",
    "points = []\n",
    "for point in range(0, len(Xlist1), 2):\n",
    "    points.append( (Xlist1[point],Ylist1[point]) )\n",
    "for point in reversed(range(1, len(Xlist1), 2)):\n",
    "    points.append( (Xlist1[point],Ylist1[point]) )\n",
    "#print(points)\n",
    "polygon = Polygon(points)\n",
    "#print(polygon)\n",
    "# Draw and fill the polygon with a specific color (e.g., blue)\n",
    "draw_polygon(frame, polygon.exterior.coords, (255, 0, 0))\n",
    "\n",
    "# Check if the frame is read successfully\n",
    "if not ret:\n",
    "    print(f\"Frame {frame_number} not retrieved successfully\")\n",
    "\n",
    "# Display the frame\n",
    "cv2.imshow(\"Frame\", frame)\n",
    "\n",
    "# Wait for a key press and then close the window\n",
    "cv2.waitKey(0)\n",
    "cv2.destroyAllWindows()\n",
    "\n",
    "# Release the video capture object\n",
    "cap.release()"
   ]
  },
  {
   "cell_type": "code",
   "execution_count": null,
   "id": "6c065587",
   "metadata": {},
   "outputs": [],
   "source": []
  }
 ],
 "metadata": {
  "kernelspec": {
   "display_name": "Python 3 (ipykernel)",
   "language": "python",
   "name": "python3"
  },
  "language_info": {
   "codemirror_mode": {
    "name": "ipython",
    "version": 3
   },
   "file_extension": ".py",
   "mimetype": "text/x-python",
   "name": "python",
   "nbconvert_exporter": "python",
   "pygments_lexer": "ipython3",
   "version": "3.9.13"
  }
 },
 "nbformat": 4,
 "nbformat_minor": 5
}
