{
 "cells": [
  {
   "cell_type": "code",
   "execution_count": 1,
   "id": "3c2759a5",
   "metadata": {},
   "outputs": [],
   "source": [
    "import cv2\n",
    "import numpy as np\n",
    "import pandas as pd\n",
    "from shapely.geometry import Polygon"
   ]
  },
  {
   "cell_type": "code",
   "execution_count": 2,
   "id": "c9945d0a",
   "metadata": {},
   "outputs": [
    {
     "name": "stdout",
     "output_type": "stream",
     "text": [
      "872.0\n"
     ]
    }
   ],
   "source": [
    "#capture = cv2.VideoCapture(r\"C:\\Users\\Jimmy\\Documents\\University Courses\\Research Files\\mp4_files\\IMG_1258-720p.mp4\")\n",
    "capture = cv2.VideoCapture(r\"C:\\Users\\Jimmy\\Downloads\\Location 1 - Experimental Forest\\L1V1.mp4\")\n",
    "total_frames = capture.get(cv2.CAP_PROP_FRAME_COUNT)\n",
    "print(total_frames)\n",
    "#df = pd.read_csv('GT_IMG_1258.csv')\n",
    "#df2 = pd.read_csv('GT_IMG_1258_919.csv')\n",
    "df = pd.read_csv(r\"C:\\Users\\Jimmy\\Downloads\\L1V1Demo\\IMG_1345.csv\")\n",
    "df2 = pd.read_csv(r\"C:\\Users\\Jimmy\\Downloads\\L1V1Demo\\L1V1_J.csv\")"
   ]
  },
  {
   "cell_type": "code",
   "execution_count": 3,
   "id": "0f7b7eeb",
   "metadata": {},
   "outputs": [],
   "source": [
    "def getROICorners(GT_df, frame_index):\n",
    "    \n",
    "    max_width = 375\n",
    "    max_y = 720 # represents floor in front\n",
    "    min_y = 230 # represents \"horizon\"\n",
    "    slope = max_width / (max_y-min_y)\n",
    "    point_count = GT_df[\"#ofPoints\"][frame_index]\n",
    "    frame_points = GT_df.iloc[frame_index, 2:(2+point_count*2)]\n",
    "    Xlist = []\n",
    "    Ylist = []\n",
    "    \n",
    "    # iterate through each point using the y-value\n",
    "    for i in range(1, point_count*2, 2):\n",
    "        # This linear equation serves as a base\n",
    "        width = max_width - (max_y-frame_points[i]) * slope\n",
    "        width = int(width//2)\n",
    "        Xlist.append(frame_points[i-1]+width)\n",
    "        Ylist.append(frame_points[i])\n",
    "        Xlist.append(frame_points[i-1]-width)\n",
    "        Ylist.append(frame_points[i])\n",
    "    return Xlist, Ylist"
   ]
  },
  {
   "cell_type": "code",
   "execution_count": 4,
   "id": "95a514d1",
   "metadata": {},
   "outputs": [],
   "source": [
    "def draw_polygon(image, points, color):\n",
    "    points = [[point[0], point[1]] for point in points]\n",
    "    points = np.array([points], dtype=np.int32)\n",
    "    cv2.fillPoly(image, points, color)"
   ]
  },
  {
   "cell_type": "code",
   "execution_count": 5,
   "id": "2fc9418a",
   "metadata": {},
   "outputs": [],
   "source": [
    "def applyMask(frame, polygon, color='green'):\n",
    "    mask = np.zeros(frame.shape[:2], dtype=np.uint8)\n",
    "    # Get the coordinates of the polygon\n",
    "    roi_corners = np.array(polygon.exterior.coords, dtype=np.int32)\n",
    "    cv2.fillPoly(mask, [roi_corners], (255, 255, 255))\n",
    "\n",
    "    # Define the mask color based on the input color\n",
    "    if color == 'green':\n",
    "        mask_color = (0, 175, 0)\n",
    "    elif color == 'blue':\n",
    "        mask_color = (175, 0, 0)\n",
    "    elif color == 'red':\n",
    "        mask_color = (0, 0, 175)\n",
    "\n",
    "    darkened_mask = cv2.bitwise_and(mask, mask, mask=mask)\n",
    "\n",
    "    # Create an overlay with the same size as the image\n",
    "    overlay = np.zeros_like(frame)\n",
    "    overlay[darkened_mask != 0] = mask_color\n",
    "\n",
    "    masked_overlay = cv2.bitwise_and(overlay, overlay, mask=mask)\n",
    "\n",
    "    output = cv2.addWeighted(frame, 1, masked_overlay, 0.25, 0.5)\n",
    "    return output"
   ]
  },
  {
   "cell_type": "code",
   "execution_count": 6,
   "id": "961fc085",
   "metadata": {},
   "outputs": [],
   "source": [
    "def calculate_iou(polygon1, polygon2):\n",
    "    # Clean the polygons to fix any self-intersection issues\n",
    "    clean_polygon1 = polygon1.buffer(0)\n",
    "    clean_polygon2 = polygon2.buffer(0)\n",
    "\n",
    "    # Calculate the intersection and union of the cleaned polygons\n",
    "    intersection_area = clean_polygon1.intersection(clean_polygon2).area\n",
    "    union_area = clean_polygon1.union(clean_polygon2).area\n",
    "\n",
    "\n",
    "    # Check if the union area is zero\n",
    "    if union_area == 0:\n",
    "        iou = 0  # Handle the case where there is no union\n",
    "    else:\n",
    "        # Calculate the IoU\n",
    "        iou = intersection_area / union_area\n",
    "        iou = intersection_area / union_area\n",
    "\n",
    "    return iou"
   ]
  },
  {
   "cell_type": "code",
   "execution_count": 7,
   "id": "d01476b6",
   "metadata": {},
   "outputs": [
    {
     "name": "stdout",
     "output_type": "stream",
     "text": [
      "[(792.0, 691.0), (440.0, 691.0), (690.0, 369.0), (584.0, 369.0)]\n"
     ]
    }
   ],
   "source": [
    "Xlist1, Ylist1 = getROICorners(df, 0)\n",
    "points1 = []\n",
    "for point in range(len(Xlist1)):\n",
    "    points1.append( (Xlist1[point],Ylist1[point]) )\n",
    "print(points1)"
   ]
  },
  {
   "cell_type": "code",
   "execution_count": 8,
   "id": "e8b9cc84",
   "metadata": {},
   "outputs": [
    {
     "ename": "error",
     "evalue": "Unknown C++ exception from OpenCV code",
     "output_type": "error",
     "traceback": [
      "\u001b[1;31m---------------------------------------------------------------------------\u001b[0m",
      "\u001b[1;31merror\u001b[0m                                     Traceback (most recent call last)",
      "Input \u001b[1;32mIn [8]\u001b[0m, in \u001b[0;36m<cell line: 8>\u001b[1;34m()\u001b[0m\n\u001b[0;32m     24\u001b[0m polygon2 \u001b[38;5;241m=\u001b[39m Polygon(points2)\n\u001b[0;32m     25\u001b[0m frame \u001b[38;5;241m=\u001b[39m applyMask(frame, polygon1, color\u001b[38;5;241m=\u001b[39m\u001b[38;5;124m'\u001b[39m\u001b[38;5;124mred\u001b[39m\u001b[38;5;124m'\u001b[39m)\n\u001b[1;32m---> 26\u001b[0m frame \u001b[38;5;241m=\u001b[39m \u001b[43mapplyMask\u001b[49m\u001b[43m(\u001b[49m\u001b[43mframe\u001b[49m\u001b[43m,\u001b[49m\u001b[43m \u001b[49m\u001b[43mpolygon2\u001b[49m\u001b[43m,\u001b[49m\u001b[43m \u001b[49m\u001b[43mcolor\u001b[49m\u001b[38;5;241;43m=\u001b[39;49m\u001b[38;5;124;43m'\u001b[39;49m\u001b[38;5;124;43mblue\u001b[39;49m\u001b[38;5;124;43m'\u001b[39;49m\u001b[43m)\u001b[49m\n\u001b[0;32m     27\u001b[0m counter \u001b[38;5;241m=\u001b[39m \u001b[38;5;241m0\u001b[39m\n\u001b[0;32m     28\u001b[0m cv2\u001b[38;5;241m.\u001b[39mimshow(\u001b[38;5;124m'\u001b[39m\u001b[38;5;124mVideo\u001b[39m\u001b[38;5;124m'\u001b[39m, frame)\n",
      "Input \u001b[1;32mIn [5]\u001b[0m, in \u001b[0;36mapplyMask\u001b[1;34m(frame, polygon, color)\u001b[0m\n\u001b[0;32m      3\u001b[0m \u001b[38;5;66;03m# Get the coordinates of the polygon\u001b[39;00m\n\u001b[0;32m      4\u001b[0m roi_corners \u001b[38;5;241m=\u001b[39m np\u001b[38;5;241m.\u001b[39marray(polygon\u001b[38;5;241m.\u001b[39mexterior\u001b[38;5;241m.\u001b[39mcoords, dtype\u001b[38;5;241m=\u001b[39mnp\u001b[38;5;241m.\u001b[39mint32)\n\u001b[1;32m----> 5\u001b[0m \u001b[43mcv2\u001b[49m\u001b[38;5;241;43m.\u001b[39;49m\u001b[43mfillPoly\u001b[49m\u001b[43m(\u001b[49m\u001b[43mmask\u001b[49m\u001b[43m,\u001b[49m\u001b[43m \u001b[49m\u001b[43m[\u001b[49m\u001b[43mroi_corners\u001b[49m\u001b[43m]\u001b[49m\u001b[43m,\u001b[49m\u001b[43m \u001b[49m\u001b[43m(\u001b[49m\u001b[38;5;241;43m255\u001b[39;49m\u001b[43m,\u001b[49m\u001b[43m \u001b[49m\u001b[38;5;241;43m255\u001b[39;49m\u001b[43m,\u001b[49m\u001b[43m \u001b[49m\u001b[38;5;241;43m255\u001b[39;49m\u001b[43m)\u001b[49m\u001b[43m)\u001b[49m\n\u001b[0;32m      7\u001b[0m \u001b[38;5;66;03m# Define the mask color based on the input color\u001b[39;00m\n\u001b[0;32m      8\u001b[0m \u001b[38;5;28;01mif\u001b[39;00m color \u001b[38;5;241m==\u001b[39m \u001b[38;5;124m'\u001b[39m\u001b[38;5;124mgreen\u001b[39m\u001b[38;5;124m'\u001b[39m:\n",
      "\u001b[1;31merror\u001b[0m: Unknown C++ exception from OpenCV code"
     ]
    }
   ],
   "source": [
    "#capture = cv2.VideoCapture(r\"C:\\Users\\Jimmy\\Documents\\University Courses\\Research Files\\mp4_files\\IMG_1258-720p.mp4\")\n",
    "capture = cv2.VideoCapture(r\"C:\\Users\\Jimmy\\Downloads\\Location 1 - Experimental Forest\\L1V1.mp4\")\n",
    "frame_index = 0\n",
    "fast_forward = 1\n",
    "counter = 0\n",
    "paused = False\n",
    "while True:\n",
    "    capture.set(cv2.CAP_PROP_FRAME_COUNT, frame_index)\n",
    "    isTrue, frame = capture.read()\n",
    "    if (frame_index < total_frames-2) & ((counter%fast_forward)==0):\n",
    "        Xlist1, Ylist1 = getROICorners(df, frame_index)\n",
    "        Xlist2, Ylist2 = getROICorners(df2, frame_index)\n",
    "        points1 = []\n",
    "        for point in range(0, len(Xlist1), 2):\n",
    "            points1.append( (Xlist1[point],Ylist1[point]) )\n",
    "        for point in reversed(range(1, len(Xlist1), 2)):\n",
    "            points1.append( (Xlist1[point],Ylist1[point]) )\n",
    "        points2 = []\n",
    "        for point in range(0, len(Xlist2), 2):\n",
    "            points2.append( (Xlist2[point],Ylist2[point]) )\n",
    "        for point in reversed(range(1, len(Xlist2), 2)):\n",
    "            points2.append( (Xlist2[point],Ylist2[point]) )\n",
    "        polygon1 = Polygon(points1)\n",
    "        polygon2 = Polygon(points2)\n",
    "        frame = applyMask(frame, polygon1, color='red')\n",
    "        frame = applyMask(frame, polygon2, color='blue')\n",
    "        counter = 0\n",
    "        cv2.imshow('Video', frame)\n",
    "        #print(\\\"At frame,\\\", frame_index, \\\"Iou is:\\\",calculate_iou(polygon1, polygon2))\\n\",\n",
    "        frame_index += fast_forward\n",
    "        counter+=1\n",
    "    if cv2.waitKey(2) & 0xFF==ord('d'):\n",
    "        cv2.destroyAllWindows()\n",
    "        break\n",
    "    if cv2.waitKey(2) & 0xFF==ord('f'):\n",
    "        if fast_forward == 1:\n",
    "            fast_forward = 5\n",
    "        else:\n",
    "            fast_forward = 1\n",
    "    if cv2.waitKey(2) & 0xFF==ord('g'):\n",
    "        paused = not paused\n",
    "\n",
    "            \n",
    "\n"
   ]
  },
  {
   "cell_type": "code",
   "execution_count": null,
   "id": "981d57e9",
   "metadata": {},
   "outputs": [],
   "source": [
    "total_iou = 0\n",
    "for frame_index in range(int(total_frames)):\n",
    "    \"    #print(frame_index)\\n\",\n",
    "    Xlist1, Ylist1 = getROICorners(df, frame_index)\n",
    "    Xlist2, Ylist2 = getROICorners(df2, frame_index)\n",
    "    points1 = []\n",
    "    for point in range(0, len(Xlist1), 2):\n",
    "        points1.append( (Xlist1[point],Ylist1[point]) )\n",
    "    for point in reversed(range(1, len(Xlist1), 2)):\n",
    "        points1.append( (Xlist1[point],Ylist1[point]) )\n",
    "    points2 = []\n",
    "    for point in range(0, len(Xlist2), 2):\n",
    "        points2.append( (Xlist2[point],Ylist2[point]) )\n",
    "    for point in reversed(range(1, len(Xlist2), 2)):\n",
    "        points2.append( (Xlist2[point],Ylist2[point]) )\n",
    "    polygon1 = Polygon(points1)\n",
    "    polygon2 = Polygon(points2)\n",
    "    total_iou += calculate_iou(polygon1, polygon2)\n",
    "print(total_iou/total_frames)\n"
   ]
  },
  {
   "cell_type": "code",
   "execution_count": null,
   "id": "f1300100",
   "metadata": {},
   "outputs": [],
   "source": []
  }
 ],
 "metadata": {
  "kernelspec": {
   "display_name": "Python 3 (ipykernel)",
   "language": "python",
   "name": "python3"
  },
  "language_info": {
   "codemirror_mode": {
    "name": "ipython",
    "version": 3
   },
   "file_extension": ".py",
   "mimetype": "text/x-python",
   "name": "python",
   "nbconvert_exporter": "python",
   "pygments_lexer": "ipython3",
   "version": "3.9.12"
  }
 },
 "nbformat": 4,
 "nbformat_minor": 5
}
